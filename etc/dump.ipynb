{
 "cells": [
  {
   "cell_type": "code",
   "execution_count": null,
   "metadata": {},
   "outputs": [],
   "source": [
    "import os\n",
    "from tensorboard.backend.event_processing.event_accumulator import EventAccumulator\n",
    "import pandas as pd\n",
    "\n",
    "dpath = '../runs/imagenet1k/from_scratch3/vanilla/20230623-150821/activation_concentration_(train)_[obs]activation'"
   ]
  },
  {
   "cell_type": "code",
   "execution_count": null,
   "metadata": {},
   "outputs": [],
   "source": [
    "\n",
    "summary_iterators = [EventAccumulator(os.path.join(dpath, dname)).Reload() for dname in os.listdir(dpath)]\n",
    "\n",
    "tags = summary_iterators[0].Tags()['scalars']\n",
    "print('tags:', tags)\n",
    "print('scalars:', len(summary_iterators))\n",
    "\n",
    "for it in summary_iterators:\n",
    "    assert it.Tags()['scalars'] == tags"
   ]
  },
  {
   "cell_type": "code",
   "execution_count": null,
   "metadata": {},
   "outputs": [],
   "source": [
    "summary_iterators = sorted(summary_iterators, key=lambda acc: get_subtag(acc))"
   ]
  },
  {
   "cell_type": "code",
   "execution_count": null,
   "metadata": {},
   "outputs": [],
   "source": [
    "def get_subtag(acc: EventAccumulator):\n",
    "    str_tag:str = acc.path.split('/')[-1]\n",
    "    try:\n",
    "        return int(str_tag)\n",
    "    except:\n",
    "        return str(str_tag)\n",
    "\n"
   ]
  },
  {
   "cell_type": "code",
   "execution_count": null,
   "metadata": {},
   "outputs": [],
   "source": [
    "df = pd.DataFrame(columns=['step'] + [get_subtag(acc) for acc in summary_iterators])\n",
    "df.append([{'step': s, **{i: 0.1*i for i in range(11)}} for s in range(10)])\n",
    "df"
   ]
  }
 ],
 "metadata": {
  "kernelspec": {
   "display_name": "mybase",
   "language": "python",
   "name": "python3"
  },
  "language_info": {
   "codemirror_mode": {
    "name": "ipython",
    "version": 3
   },
   "file_extension": ".py",
   "mimetype": "text/x-python",
   "name": "python",
   "nbconvert_exporter": "python",
   "pygments_lexer": "ipython3",
   "version": "3.8.16"
  },
  "orig_nbformat": 4
 },
 "nbformat": 4,
 "nbformat_minor": 2
}
