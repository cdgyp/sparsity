{
 "cells": [
  {
   "cell_type": "code",
   "execution_count": 1,
   "metadata": {},
   "outputs": [],
   "source": [
    "import matplotlib.pyplot as plt\n",
    "import torch\n",
    "import os\n",
    "import numpy as np\n",
    "\n",
    "device='cuda:0'"
   ]
  },
  {
   "cell_type": "code",
   "execution_count": null,
   "metadata": {},
   "outputs": [],
   "source": [
    "root = os.path.expanduser('~/sparsity/runs/')\n",
    "output_dir = os.path.expanduser('~/sparsity/dumps/')"
   ]
  },
  {
   "cell_type": "code",
   "execution_count": null,
   "metadata": {},
   "outputs": [],
   "source": [
    "def merge_splits(dir_to_merge: str):\n",
    "    res = 0\n",
    "    for split_name in os.listdir(dir_to_merge):\n",
    "        split = torch.load(os.path.join(dir_to_merge, split_name), device)\n",
    "        res = res + split\n",
    "    return res"
   ]
  },
  {
   "cell_type": "code",
   "execution_count": null,
   "metadata": {},
   "outputs": [],
   "source": [
    "def get_histc(dir: str, checkpoint: int):\n",
    "    n_layer = len(os.listdir(os.path.join(dir, 'g')))\n",
    "    gs, gs_activated = [], []\n",
    "    for i in range(n_layer):\n",
    "        g_directory = os.path.join(dir, 'g', str(i), str(checkpoint))\n",
    "        g_activated_directory = os.path.join(dir, 'g_activated', str(i), str(checkpoint))\n",
    "\n",
    "        gs.append(merge_splits(g_directory))\n",
    "        gs_activated.append(merge_splits(g_activated_directory))\n",
    "    return gs, gs_activated"
   ]
  },
  {
   "cell_type": "code",
   "execution_count": null,
   "metadata": {},
   "outputs": [],
   "source": [
    "def get_checkpoints(dir: str):\n",
    "    g_directory = os.path.join(dir, 'g', '0')\n",
    "    return sorted([int(s) for s in os.listdir(g_directory)])"
   ]
  },
  {
   "cell_type": "code",
   "execution_count": null,
   "metadata": {},
   "outputs": [],
   "source": [
    "n_bin = 1000\n",
    "color='blue'\n",
    "\n",
    "def histogram(gs, gs_activated, color, n_bin=1000, save_path=None, bin_range=[-10, 5], display_range=[-6, 3]):\n",
    "    fig, axs = plt.subplots(len(gs_activated), 1, sharex=True)\n",
    "    for i, ax in enumerate(axs):\n",
    "        ax.set_yticks([])\n",
    "        if i == len(axs) - 1:\n",
    "            ax.set_xlabel(\"Log10 absolute value of entries in g\")\n",
    "    hist_c_bound = bin_range\n",
    "    bin_width = (hist_c_bound[1] - hist_c_bound[0]) / (n_bin + 1)\n",
    "    bin_edges = np.linspace(hist_c_bound[0], hist_c_bound[1], n_bin + 1)\n",
    "    bin_centers = (bin_edges[:-1] + bin_edges[1:]) / 2\n",
    "    for ax, g, g_activated in zip(axs, gs, gs_activated):\n",
    "        g = g.reshape(n_bin, -1).sum(dim=-1)\n",
    "        g_activated = g_activated.reshape(n_bin, -1).sum(dim=-1) * (g.sum() / g_activated.sum() / 3)\n",
    "        ax.bar(bin_centers, g.cpu(), width=bin_width, align='center', alpha=0.3, color=color)\n",
    "        ax.bar(bin_centers, g_activated.cpu(), width=bin_width, align='center', color=color)\n",
    "    plt.xlim(*display_range)\n",
    "    if save_path:\n",
    "        fig.savefig(save_path)\n",
    "    # plt.close()\n",
    "\n",
    "histogram(gs, gs_activated, color='blue')"
   ]
  },
  {
   "cell_type": "code",
   "execution_count": null,
   "metadata": {},
   "outputs": [],
   "source": [
    "for task in [\"imagenet1k\", \"T5\"]:\n",
    "    for model_type in [\"sparsified\", \"vanilla\"]:\n",
    "        dir = os.path.join(root, task, 'gradient_density', model_type, \"pth\")\n",
    "        checkpoints = get_checkpoints(dir)\n",
    "        output_directory = os.path.join(output_dir, task, 'gradient_density', model_type, str(checkpoint)+'.jpg')\n",
    "        for checkpoint in checkpoints:\n",
    "            gs, gs_activated = get_histc(dir, checkpoint)\n",
    "            save_path = os.path.join(output_directory, str(checkpoint)+'.jpg')\n",
    "            os.makedirs(output_directory, exist_ok=True)\n",
    "            histogram(gs, gs_activated, 'red' if model_type == 'sparsified' else 'blue', save_path=save_path)"
   ]
  }
 ],
 "metadata": {
  "kernelspec": {
   "display_name": "pzbase",
   "language": "python",
   "name": "python3"
  },
  "language_info": {
   "codemirror_mode": {
    "name": "ipython",
    "version": 3
   },
   "file_extension": ".py",
   "mimetype": "text/x-python",
   "name": "python",
   "nbconvert_exporter": "python",
   "pygments_lexer": "ipython3",
   "version": "3.8.17"
  }
 },
 "nbformat": 4,
 "nbformat_minor": 2
}
